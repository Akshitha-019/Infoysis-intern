{
 "cells": [
  {
   "cell_type": "code",
   "execution_count": 6,
   "id": "494a682a-a39a-4bf6-8b50-98a5d5f0aba7",
   "metadata": {},
   "outputs": [
    {
     "name": "stdout",
     "output_type": "stream",
     "text": [
      "Requirement already satisfied: easyocr in c:\\users\\admin\\appdata\\local\\programs\\python\\python313\\lib\\site-packages (1.7.2)\n",
      "Requirement already satisfied: torch in c:\\users\\admin\\appdata\\local\\programs\\python\\python313\\lib\\site-packages (from easyocr) (2.6.0)\n",
      "Requirement already satisfied: torchvision>=0.5 in c:\\users\\admin\\appdata\\local\\programs\\python\\python313\\lib\\site-packages (from easyocr) (0.21.0)\n",
      "Requirement already satisfied: opencv-python-headless in c:\\users\\admin\\appdata\\local\\programs\\python\\python313\\lib\\site-packages (from easyocr) (4.11.0.86)\n",
      "Requirement already satisfied: scipy in c:\\users\\admin\\appdata\\local\\programs\\python\\python313\\lib\\site-packages (from easyocr) (1.15.2)\n",
      "Requirement already satisfied: numpy in c:\\users\\admin\\appdata\\local\\programs\\python\\python313\\lib\\site-packages (from easyocr) (2.1.1)\n",
      "Requirement already satisfied: Pillow in c:\\users\\admin\\appdata\\local\\programs\\python\\python313\\lib\\site-packages (from easyocr) (11.1.0)\n",
      "Requirement already satisfied: scikit-image in c:\\users\\admin\\appdata\\local\\programs\\python\\python313\\lib\\site-packages (from easyocr) (0.25.2)\n",
      "Requirement already satisfied: python-bidi in c:\\users\\admin\\appdata\\local\\programs\\python\\python313\\lib\\site-packages (from easyocr) (0.6.6)\n",
      "Requirement already satisfied: PyYAML in c:\\users\\admin\\appdata\\local\\programs\\python\\python313\\lib\\site-packages (from easyocr) (6.0.2)\n",
      "Requirement already satisfied: Shapely in c:\\users\\admin\\appdata\\local\\programs\\python\\python313\\lib\\site-packages (from easyocr) (2.0.7)\n",
      "Requirement already satisfied: pyclipper in c:\\users\\admin\\appdata\\local\\programs\\python\\python313\\lib\\site-packages (from easyocr) (1.3.0.post6)\n",
      "Requirement already satisfied: ninja in c:\\users\\admin\\appdata\\local\\programs\\python\\python313\\lib\\site-packages (from easyocr) (1.11.1.3)\n",
      "Requirement already satisfied: filelock in c:\\users\\admin\\appdata\\local\\programs\\python\\python313\\lib\\site-packages (from torch->easyocr) (3.17.0)\n",
      "Requirement already satisfied: typing-extensions>=4.10.0 in c:\\users\\admin\\appdata\\local\\programs\\python\\python313\\lib\\site-packages (from torch->easyocr) (4.12.2)\n",
      "Requirement already satisfied: networkx in c:\\users\\admin\\appdata\\local\\programs\\python\\python313\\lib\\site-packages (from torch->easyocr) (3.4.2)\n",
      "Requirement already satisfied: jinja2 in c:\\users\\admin\\appdata\\local\\programs\\python\\python313\\lib\\site-packages (from torch->easyocr) (3.1.5)\n",
      "Requirement already satisfied: fsspec in c:\\users\\admin\\appdata\\local\\programs\\python\\python313\\lib\\site-packages (from torch->easyocr) (2025.2.0)\n",
      "Requirement already satisfied: setuptools in c:\\users\\admin\\appdata\\local\\programs\\python\\python313\\lib\\site-packages (from torch->easyocr) (75.8.0)\n",
      "Requirement already satisfied: sympy==1.13.1 in c:\\users\\admin\\appdata\\local\\programs\\python\\python313\\lib\\site-packages (from torch->easyocr) (1.13.1)\n",
      "Requirement already satisfied: mpmath<1.4,>=1.1.0 in c:\\users\\admin\\appdata\\local\\programs\\python\\python313\\lib\\site-packages (from sympy==1.13.1->torch->easyocr) (1.3.0)\n",
      "Requirement already satisfied: imageio!=2.35.0,>=2.33 in c:\\users\\admin\\appdata\\local\\programs\\python\\python313\\lib\\site-packages (from scikit-image->easyocr) (2.37.0)\n",
      "Requirement already satisfied: tifffile>=2022.8.12 in c:\\users\\admin\\appdata\\local\\programs\\python\\python313\\lib\\site-packages (from scikit-image->easyocr) (2025.2.18)\n",
      "Requirement already satisfied: packaging>=21 in c:\\users\\admin\\appdata\\local\\programs\\python\\python313\\lib\\site-packages (from scikit-image->easyocr) (24.2)\n",
      "Requirement already satisfied: lazy-loader>=0.4 in c:\\users\\admin\\appdata\\local\\programs\\python\\python313\\lib\\site-packages (from scikit-image->easyocr) (0.4)\n",
      "Requirement already satisfied: MarkupSafe>=2.0 in c:\\users\\admin\\appdata\\local\\programs\\python\\python313\\lib\\site-packages (from jinja2->torch->easyocr) (3.0.2)\n"
     ]
    },
    {
     "name": "stderr",
     "output_type": "stream",
     "text": [
      "\n",
      "[notice] A new release of pip is available: 24.3.1 -> 25.0.1\n",
      "[notice] To update, run: python.exe -m pip install --upgrade pip\n"
     ]
    }
   ],
   "source": [
    "!pip install easyocr"
   ]
  },
  {
   "cell_type": "code",
   "execution_count": 7,
   "id": "ae040682-01f7-4fd4-bb2e-2879c11f95ab",
   "metadata": {},
   "outputs": [],
   "source": [
    "from ultralytics import YOLO\n",
    "import cv2\n",
    "import easyocr"
   ]
  },
  {
   "cell_type": "code",
   "execution_count": 8,
   "id": "02538797-3cbc-4c79-9be2-9e3ed89ede54",
   "metadata": {},
   "outputs": [],
   "source": [
    "model=YOLO(r\"C:\\Users\\Admin\\OneDrive\\Desktop\\infoysis\\detection\\runs\\detect\\train\\weights\\best.pt\")"
   ]
  },
  {
   "cell_type": "code",
   "execution_count": 9,
   "id": "2b073924-a698-42de-8ea8-947fb92828a2",
   "metadata": {},
   "outputs": [
    {
     "name": "stderr",
     "output_type": "stream",
     "text": [
      "Neither CUDA nor MPS are available - defaulting to CPU. Note: This module is much faster with a GPU.\n"
     ]
    }
   ],
   "source": [
    "reader = easyocr.Reader(['en'])"
   ]
  },
  {
   "cell_type": "code",
   "execution_count": 10,
   "id": "5640d5c5-4265-4c98-aadb-3ad9b3f279a4",
   "metadata": {},
   "outputs": [
    {
     "name": "stdout",
     "output_type": "stream",
     "text": [
      "\n",
      "image 1/1 C:\\Users\\Admin\\OneDrive\\Desktop\\infoysis\\detection\\WhatsApp Image 2025-02-27 at 7.36.11 PM.jpeg: 640x512 1 name, 2 uids, 1 address, 331.4ms\n",
      "Speed: 15.2ms preprocess, 331.4ms inference, 13.0ms postprocess per image at shape (1, 3, 640, 512)\n"
     ]
    }
   ],
   "source": [
    "image_path = r\"C:\\Users\\Admin\\OneDrive\\Desktop\\infoysis\\detection\\WhatsApp Image 2025-02-27 at 7.36.11 PM.jpeg\"  # replace with your image path\n",
    "results = model(image_path)"
   ]
  },
  {
   "cell_type": "code",
   "execution_count": 11,
   "id": "70e68238-8f4e-4787-938c-7015d656e757",
   "metadata": {},
   "outputs": [],
   "source": [
    "# Load the original image\n",
    "image = cv2.imread(image_path)\n",
    "\n",
    "# Dictionary to store extracted fields\n",
    "extracted_data = {}"
   ]
  },
  {
   "cell_type": "code",
   "execution_count": 12,
   "id": "bad1fcac-b176-44ec-8737-0c1a42402886",
   "metadata": {},
   "outputs": [],
   "source": [
    "# Iterate through detections\n",
    "for result in results[0].boxes.data.tolist():  # results[0].boxes.data contains bounding box details\n",
    "    x1, y1, x2, y2, confidence, class_id = map(int, result[:6])\n",
    "    field_class = model.names[class_id]  # Get class name (e.g., 'Name', 'UID', 'Address')\n",
    "\n",
    "    # Crop the detected region\n",
    "    cropped_roi = image[y1:y2, x1:x2]\n",
    "\n",
    "    # Convert cropped ROI to grayscale for OCR\n",
    "    gray_roi = cv2.cvtColor(cropped_roi, cv2.COLOR_BGR2GRAY)\n",
    "\n",
    "    # Use EasyOCR to extract text\n",
    "    text = reader.readtext(gray_roi, detail=0)  # detail=0 returns only the text\n",
    "\n",
    "    # Save the text to the extracted_data dictionary\n",
    "    extracted_data[field_class] = ' '.join(text)  # Combine detected text if multiple lines"
   ]
  },
  {
   "cell_type": "code",
   "execution_count": 13,
   "id": "33593814-3550-44a8-a2d0-a64054bb7b4f",
   "metadata": {},
   "outputs": [
    {
     "name": "stdout",
     "output_type": "stream",
     "text": [
      "Extracted Data: {'name': 'Anju Raibhar', 'address': 'Address: CIO: Arvind Rajbhar, Naurasiya, Naursia, Azamgarh  Uttar Pradesh 276123', 'uid': '5826 2023 8724'}\n"
     ]
    }
   ],
   "source": [
    "# Print the extracted fields\n",
    "print(\"Extracted Data:\", extracted_data)"
   ]
  },
  {
   "cell_type": "code",
   "execution_count": null,
   "id": "2e231b1f-9d38-4620-a83f-a89b46f48af4",
   "metadata": {},
   "outputs": [],
   "source": []
  }
 ],
 "metadata": {
  "kernelspec": {
   "display_name": "Python 3 (ipykernel)",
   "language": "python",
   "name": "python3"
  },
  "language_info": {
   "codemirror_mode": {
    "name": "ipython",
    "version": 3
   },
   "file_extension": ".py",
   "mimetype": "text/x-python",
   "name": "python",
   "nbconvert_exporter": "python",
   "pygments_lexer": "ipython3",
   "version": "3.13.2"
  }
 },
 "nbformat": 4,
 "nbformat_minor": 5
}
